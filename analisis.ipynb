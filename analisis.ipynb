{
 "cells": [
  {
   "cell_type": "markdown",
   "metadata": {},
   "source": [
    "# Análisis Exploratorio de Datos Principiante"
   ]
  },
  {
   "cell_type": "markdown",
   "metadata": {},
   "source": [
    "# Preparando el Entorno"
   ]
  },
  {
   "cell_type": "markdown",
   "metadata": {},
   "source": [
    "1.- Importación de librerías"
   ]
  },
  {
   "cell_type": "code",
   "execution_count": 102,
   "metadata": {},
   "outputs": [
    {
     "data": {
      "text/html": [
       "        <script type=\"text/javascript\">\n",
       "        window.PlotlyConfig = {MathJaxConfig: 'local'};\n",
       "        if (window.MathJax && window.MathJax.Hub && window.MathJax.Hub.Config) {window.MathJax.Hub.Config({SVG: {font: \"STIX-Web\"}});}\n",
       "        if (typeof require !== 'undefined') {\n",
       "        require.undef(\"plotly\");\n",
       "        requirejs.config({\n",
       "            paths: {\n",
       "                'plotly': ['https://cdn.plot.ly/plotly-2.12.1.min']\n",
       "            }\n",
       "        });\n",
       "        require(['plotly'], function(Plotly) {\n",
       "            window._Plotly = Plotly;\n",
       "        });\n",
       "        }\n",
       "        </script>\n",
       "        "
      ]
     },
     "metadata": {},
     "output_type": "display_data"
    }
   ],
   "source": [
    "import pandas as pd\n",
    "import seaborn as sns\n",
    "import matplotlib.pyplot as plt\n",
    "plt.style.use('fivethirtyeight')\n",
    "import warnings\n",
    "warnings.filterwarnings('ignore')\n",
    "import numpy as np\n",
    "import plotly.offline as py\n",
    "py.init_notebook_mode(connected=True)\n",
    "import plotly.graph_objs as go\n",
    "import plotly.tools as tls\n",
    "import base64\n",
    "import io\n",
    "import codecs\n",
    "from IPython.display import HTML\n",
    "from subprocess import check_output"
   ]
  },
  {
   "cell_type": "markdown",
   "metadata": {},
   "source": [
    "2.- Invocar el DataFrame"
   ]
  },
  {
   "cell_type": "code",
   "execution_count": 103,
   "metadata": {},
   "outputs": [],
   "source": [
    "response = pd.read_csv(\"multipleChoiceResponses.csv\",encoding=\"ISO-8859-1\")"
   ]
  },
  {
   "cell_type": "markdown",
   "metadata": {},
   "source": [
    "3.-Revisar Los primeros Elementos de la tabla"
   ]
  },
  {
   "cell_type": "code",
   "execution_count": 104,
   "metadata": {},
   "outputs": [
    {
     "data": {
      "text/plain": [
       "4215        NaN\n",
       "4880        NaN\n",
       "11540       NaN\n",
       "6026     50,000\n",
       "10120       NaN\n",
       "15162       NaN\n",
       "6041      87000\n",
       "1705        NaN\n",
       "1061     110000\n",
       "14886       NaN\n",
       "1686        NaN\n",
       "197      305000\n",
       "Name: CompensationAmount, dtype: object"
      ]
     },
     "execution_count": 104,
     "metadata": {},
     "output_type": "execute_result"
    }
   ],
   "source": [
    "#Tenemos 16716 entradas con 228 variables o entradas. \n",
    "response[\"CompensationAmount\"].sample(12)"
   ]
  },
  {
   "cell_type": "markdown",
   "metadata": {},
   "source": [
    "# Principales Análisis Básicos"
   ]
  },
  {
   "cell_type": "markdown",
   "metadata": {},
   "source": [
    "* Los Análisis Básicos suelen hacer sobre el total de registros, podemos referirnos a su procedencia, su edad o alguna característica vital del conjunto de Datos. "
   ]
  },
  {
   "cell_type": "markdown",
   "metadata": {},
   "source": [
    "1.- ¿Cuál es el número total de Encuestados?"
   ]
  },
  {
   "cell_type": "code",
   "execution_count": 105,
   "metadata": {},
   "outputs": [
    {
     "name": "stdout",
     "output_type": "stream",
     "text": [
      "La Cantidad total de Encuestados es 16716\n"
     ]
    }
   ],
   "source": [
    "#Para esto podemos invocar un componente de la dimensión del Dataframe\n",
    "total_encuestados = response.shape[0]\n",
    "print(\"La Cantidad total de Encuestados es\",total_encuestados)"
   ]
  },
  {
   "cell_type": "markdown",
   "metadata": {},
   "source": [
    "2.- ¿Cúal es el número total de países encuestados?"
   ]
  },
  {
   "cell_type": "code",
   "execution_count": 106,
   "metadata": {},
   "outputs": [
    {
     "name": "stdout",
     "output_type": "stream",
     "text": [
      "La Cantidad total de países encuestados es: 52\n"
     ]
    }
   ],
   "source": [
    "#En este caso nos interesa los datos unicos que se presentan en la columna país, de esta forma podemos extraer su cantidad. \n",
    "numero_total_paises = response[\"Country\"].nunique()\n",
    "print(\"La Cantidad total de países encuestados es:\",numero_total_paises)"
   ]
  },
  {
   "cell_type": "markdown",
   "metadata": {},
   "source": [
    "3.-¿Cuál es el País con Mayor Número de Encuestados?"
   ]
  },
  {
   "cell_type": "code",
   "execution_count": 107,
   "metadata": {},
   "outputs": [
    {
     "name": "stdout",
     "output_type": "stream",
     "text": [
      "El País con mayor cantidad de encuestados es: United States, con una cantidad de 4197 personas\n"
     ]
    }
   ],
   "source": [
    "#Nuevamente trabajamos con la columna de paises, donde debemos obtener cual es el país con mayor cantidad de encuestados, entonces debemos contar.\n",
    "\n",
    "#El primero siempre será el mayor, obtenemos el indice, osea el país\n",
    "pais_mayor_encuestados = response[\"Country\"].value_counts().index[0]\n",
    "\n",
    "#En cambio si deseamos obtener la cantidad especificamente\n",
    "cantidad_mayor_encuestados = response[\"Country\"].value_counts()[0]\n",
    "\n",
    "#Respuesta:\n",
    "print(\"El País con mayor cantidad de encuestados es:\",pais_mayor_encuestados+\",\",\"con una cantidad de\",cantidad_mayor_encuestados,\"personas\")\n"
   ]
  },
  {
   "cell_type": "markdown",
   "metadata": {},
   "source": [
    "3.1.- ¿Cuál sería entonces el País con Menor Número de encuestados?"
   ]
  },
  {
   "cell_type": "code",
   "execution_count": 108,
   "metadata": {},
   "outputs": [
    {
     "name": "stdout",
     "output_type": "stream",
     "text": [
      "El País con menor cantidad de encuestados es: Chile, con una cantidad de 51 personas\n"
     ]
    }
   ],
   "source": [
    "#Trabajamos con la columna \"Country\"\n",
    "pais_menor_encuestados = response[\"Country\"].value_counts().index[-1]\n",
    "\n",
    "cantidad_menor_encuestados = response[\"Country\"].value_counts()[-1]\n",
    "\n",
    "cantidad_menor_encuestados\n",
    "\n",
    "print(\"El País con menor cantidad de encuestados es:\",pais_menor_encuestados+\",\",\"con una cantidad de\",cantidad_menor_encuestados,\"personas\")\n"
   ]
  },
  {
   "cell_type": "code",
   "execution_count": 109,
   "metadata": {},
   "outputs": [
    {
     "data": {
      "text/plain": [
       "United States    4197\n",
       "Name: Country, dtype: int64"
      ]
     },
     "execution_count": 109,
     "metadata": {},
     "output_type": "execute_result"
    }
   ],
   "source": [
    "#Comprobación de las Preguntas Anteriores. [3.0]\n",
    "response[\"Country\"].value_counts().head(1)"
   ]
  },
  {
   "cell_type": "code",
   "execution_count": 110,
   "metadata": {},
   "outputs": [
    {
     "data": {
      "text/plain": [
       "Chile    51\n",
       "Name: Country, dtype: int64"
      ]
     },
     "execution_count": 110,
     "metadata": {},
     "output_type": "execute_result"
    }
   ],
   "source": [
    "#Comprobación de las Preguntas Anteriores.[3.1]\n",
    "response[\"Country\"].value_counts().tail(1)\n"
   ]
  },
  {
   "cell_type": "markdown",
   "metadata": {},
   "source": [
    "4.-¿Cuál es el Participante más Joven y Longevo que fue sometido a la encuesta?"
   ]
  },
  {
   "cell_type": "code",
   "execution_count": 111,
   "metadata": {},
   "outputs": [
    {
     "name": "stdout",
     "output_type": "stream",
     "text": [
      "El encuestado más joven tiene la edad de: 0.0\n",
      "El encuestado mas longevo tiene la edad de: 100.0\n"
     ]
    }
   ],
   "source": [
    "#Para trabajar sobre la juventud o longevidad debemos trabajar con la columna [\"Age\"]\n",
    "\n",
    "#Usamos sencillamente las funciones min y max en la columna correspondiente. \n",
    "encuestado_mas_joven = response[\"Age\"].min()\n",
    "encuestado_mas_longevo = response[\"Age\"].max()\n",
    "print(\"El encuestado más joven tiene la edad de:\",encuestado_mas_joven)\n",
    "print(\"El encuestado mas longevo tiene la edad de:\",encuestado_mas_longevo)\n"
   ]
  },
  {
   "cell_type": "markdown",
   "metadata": {},
   "source": [
    "Nota: Es posible que en este apartado exista un error en los datos, ¿qué valor podría tener un encuestado de 0 años? \n",
    "A parte, también podemos observar como el encuestado más longevo tiene una edad de 100 años y aplicando esto al contexto de la tabla su información a parte de omitble, de no tratarse puede provocar ciertos problemas. "
   ]
  },
  {
   "cell_type": "markdown",
   "metadata": {},
   "source": [
    "# Primeras Gráficas - División por Géneros"
   ]
  },
  {
   "cell_type": "markdown",
   "metadata": {},
   "source": [
    "Procedemos a crear nuestras tablas según los géneros con los cuales se identifican los encuestados"
   ]
  },
  {
   "cell_type": "code",
   "execution_count": 112,
   "metadata": {},
   "outputs": [
    {
     "data": {
      "image/png": "[encoded data removed]",
      "text/plain": [
       "<Figure size 1296x720 with 1 Axes>"
      ]
     },
     "metadata": {},
     "output_type": "display_data"
    }
   ],
   "source": [
    "#Invocamos a la librería principal para gráfico de este estilo matplotlib\n",
    "\n",
    "#Primero creamos nuestro entorno de trabajo con un \"figsize\" de 18x10 en cuanto a dimensión \n",
    "plt.subplots(figsize = (18,10))\n",
    "#Obtenemos los valores para nuestra gráfica de nuestra gráfica \n",
    "\n",
    "#Es un gráfico de barras invertido, donde enfrentamos a los generos vs su cantidad. \n",
    "\n",
    "#Básicamente los estamos catalogando, x nos da el tipo mientras que orden tiene las categorías.\n",
    "sns.countplot(x=response[\"GenderSelect\"], order=response[\"GenderSelect\"].value_counts().index)\n",
    "plt.show()"
   ]
  },
  {
   "cell_type": "markdown",
   "metadata": {},
   "source": [
    "* Podemos observar que una aplastante mayoría de los encuestados son de género masculino, realmente se desconoce el motivo exacto de este fenómeno pero puede deberse al momento o lugar en ensencia en el que se llevó a cabo la encuesta. "
   ]
  },
  {
   "cell_type": "markdown",
   "metadata": {},
   "source": [
    "# Primeras Gráficas - Top 15 países que presentan mayor cantidad de encuestados. "
   ]
  },
  {
   "cell_type": "code",
   "execution_count": 113,
   "metadata": {},
   "outputs": [
    {
     "data": {
      "image/png": "[encoded data removed]",
      "text/plain": [
       "<Figure size 720x720 with 1 Axes>"
      ]
     },
     "metadata": {},
     "output_type": "display_data"
    }
   ],
   "source": [
    "#Primero debemos limitar nuestra muestra para obtener solo 15 paises en nuestra gráfica.\n",
    "#Lo único extra que deberíamos hacer es convertir nuestro filtro en un dataframe.\n",
    "res_top_15 = response[\"Country\"].value_counts()[:15].to_frame()\n",
    "sns.barplot(res_top_15[\"Country\"], res_top_15.index, palette=\"inferno\")\n",
    "plt.title(\"Top 15 Países por número de encuestados\")\n",
    "plt.xlabel(\"\")\n",
    "fig = plt.gcf()\n",
    "fig.set_size_inches(10,10)\n",
    "plt.show()\n"
   ]
  }
 ],
 "metadata": {
  "interpreter": {
   "hash": "afb734500600fd355917ca529030176ea0ca205570884b88f2f6f7d791fd3fbe"
  },
  "kernelspec": {
   "display_name": "Python 3.10.2 64-bit",
   "language": "python",
   "name": "python3"
  },
  "language_info": {
   "codemirror_mode": {
    "name": "ipython",
    "version": 3
   },
   "file_extension": ".py",
   "mimetype": "text/x-python",
   "name": "python",
   "nbconvert_exporter": "python",
   "pygments_lexer": "ipython3",
   "version": "3.10.2"
  },
  "orig_nbformat": 4
 },
 "nbformat": 4,
 "nbformat_minor": 2
}
